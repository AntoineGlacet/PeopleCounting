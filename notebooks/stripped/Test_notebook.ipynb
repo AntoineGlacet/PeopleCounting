{
 "cells": [
  {
   "cell_type": "code",
   "execution_count": null,
   "id": "5fecb10d",
   "metadata": {
    "ExecuteTime": {
     "end_time": "2021-08-08T10:52:09.446109Z",
     "start_time": "2021-08-08T10:52:09.325401Z"
    }
   },
   "outputs": [],
   "source": [
    "%load_ext autoreload\n",
    "%autoreload 2"
   ]
  },
  {
   "cell_type": "markdown",
   "id": "b2729397",
   "metadata": {
    "heading_collapsed": true
   },
   "source": [
    "# cut large video into small files"
   ]
  },
  {
   "cell_type": "code",
   "execution_count": null,
   "id": "67511976",
   "metadata": {
    "ExecuteTime": {
     "start_time": "2021-08-08T10:52:10.403Z"
    },
    "hidden": true
   },
   "outputs": [],
   "source": [
    "from src.utils import divide_video\n",
    "from pathlib import Path\n",
    "\n",
    "path_long_video = Path(r'/home/antoine/projects/PeopleCounting/PeopleCounting/data/raw/TLC00000.AVI')\n",
    "path_small_videos = Path(r'/home/antoine/projects/PeopleCounting/PeopleCounting/data/interim/test_cut_vid_')\n",
    "\n",
    "divide_video(\n",
    "    input_path=path_long_video,\n",
    "    output_path=path_small_videos,\n",
    "    cut_duration=120,\n",
    ")"
   ]
  },
  {
   "cell_type": "markdown",
   "id": "fb671556",
   "metadata": {
    "ExecuteTime": {
     "end_time": "2021-08-06T02:31:19.614789Z",
     "start_time": "2021-08-06T02:31:19.609944Z"
    }
   },
   "source": [
    "# process 1 small file"
   ]
  },
  {
   "cell_type": "code",
   "execution_count": null,
   "id": "7585e586",
   "metadata": {
    "ExecuteTime": {
     "end_time": "2021-08-08T10:57:52.008687Z",
     "start_time": "2021-08-08T10:55:51.480220Z"
    }
   },
   "outputs": [],
   "source": [
    "from src.tracker import CentroidTracker, load_coco\n",
    "from src.analyze import track_distance_and_features\n",
    "from pathlib import Path\n",
    "\n",
    "# initialize all detection and tracking algorithms\n",
    "# load coco\n",
    "net, ln, LABELS, COLORS = load_coco()\n",
    "# initialize our centroid tracker and frame dimensions\n",
    "ct = CentroidTracker(maxDisappeared=5)\n",
    "\n",
    "input_path = r'/home/antoine/projects/PeopleCounting/PeopleCounting/data/interim/1.mp4'\n",
    "output_path = r'/home/antoine/projects/PeopleCounting/PeopleCounting/data/processed/new1_processed_test.mp4'\n",
    "\n",
    "kwargs_video_tracking ={\n",
    "    'input_path':input_path,\n",
    "    'output_path':output_path,\n",
    "    'ct':ct,\n",
    "    'net':net,\n",
    "    'ln':ln,\n",
    "    'LABELS':LABELS,\n",
    "    'COLORS':COLORS,\n",
    "    'end_frame_decided':30,\n",
    "    'write':True,\n",
    "    'confidence_set' : 0.5,\n",
    "    'threshold_set' : 0.3,\n",
    "    'ratio_x_line1': 350 / 1280,\n",
    "    'ratio_x_line2' : 950 / 1280,\n",
    "    'counting_direction' : 1,  # 1 for left to right and -1 for right to left\n",
    "}\n",
    "\n",
    "detection_frame_list = track_distance_and_features(**kwargs_video_tracking)\n",
    "print(detection_frame_list)"
   ]
  },
  {
   "cell_type": "markdown",
   "id": "09950722",
   "metadata": {
    "heading_collapsed": true
   },
   "source": [
    "# process all small files"
   ]
  },
  {
   "cell_type": "code",
   "execution_count": null,
   "id": "7fdb618f",
   "metadata": {
    "ExecuteTime": {
     "start_time": "2021-08-08T10:52:10.475Z"
    },
    "hidden": true
   },
   "outputs": [],
   "source": [
    "from src.utils import divide_video\n",
    "from pathlib import Path\n",
    "import matplotlib.pyplot as plt\n",
    "import datetime\n",
    "from src.tracker import CentroidTracker, load_coco\n",
    "from src.analyze import track_distance_and_features\n",
    "\n",
    "# name of the set of videos\n",
    "video_name = 'check_B_210514'\n",
    "# path of raw file (long video)\n",
    "path_long_video = Path(r'/home/antoine/projects/PeopleCounting/PeopleCounting/data/raw/TLC00000.AVI')\n",
    "# root path to store interim files (small videos)\n",
    "path_small_videos_root = Path(r'/home/antoine/projects/PeopleCounting/PeopleCounting/data/interim/'+video_name+ '_')\n",
    "# root path to store processed files (small processed videos)\n",
    "root_processed_path = Path(r'/home/antoine/projects/PeopleCounting/PeopleCounting/data/processed')\n",
    "\n"
   ]
  },
  {
   "cell_type": "code",
   "execution_count": null,
   "id": "b2a883b7",
   "metadata": {
    "ExecuteTime": {
     "start_time": "2021-08-08T10:52:10.485Z"
    },
    "hidden": true
   },
   "outputs": [],
   "source": [
    "first_frame, last_frame, output_path_list = divide_video(\n",
    "    input_path=path_long_video,\n",
    "    output_path=path_small_videos_root,\n",
    "    cut_duration=120,\n",
    ")"
   ]
  },
  {
   "cell_type": "code",
   "execution_count": null,
   "id": "a23e5fe1",
   "metadata": {
    "ExecuteTime": {
     "start_time": "2021-08-08T10:52:10.497Z"
    },
    "hidden": true,
    "scrolled": true
   },
   "outputs": [],
   "source": [
    "fig,ax = plt.subplots(nrows=2,figsize=(16,18))\n",
    "ax[0].imshow(first_frame)\n",
    "ax[1].imshow(last_frame)"
   ]
  },
  {
   "cell_type": "code",
   "execution_count": null,
   "id": "b360c691",
   "metadata": {
    "ExecuteTime": {
     "start_time": "2021-08-08T10:52:10.501Z"
    },
    "hidden": true
   },
   "outputs": [],
   "source": [
    "start_time = datetime.datetime(year=2021,month=5,day=14,hour=10,minute=45,second=23)\n",
    "end_time = datetime.datetime(year=2021,month=5,day=14,hour=11,minute=53,second=38)"
   ]
  },
  {
   "cell_type": "code",
   "execution_count": null,
   "id": "b646e9fa",
   "metadata": {
    "ExecuteTime": {
     "start_time": "2021-08-08T10:52:10.545Z"
    },
    "hidden": true
   },
   "outputs": [],
   "source": [
    "# initialize all detection and tracking algorithms\n",
    "# load coco\n",
    "net, ln, LABELS, COLORS = load_coco()\n",
    "# initialize our centroid tracker and frame dimensions\n",
    "ct = CentroidTracker(maxDisappeared=5)"
   ]
  },
  {
   "cell_type": "code",
   "execution_count": null,
   "id": "42d74e9a",
   "metadata": {
    "ExecuteTime": {
     "start_time": "2021-08-08T10:52:10.560Z"
    },
    "hidden": true
   },
   "outputs": [],
   "source": [
    "for path in output_path_list:\n",
    "    i=output_path_list.index(path)\n",
    "    # take the name of the video\n",
    "    name_smallvid = str(path).split('/')[-1]\n",
    "    output_path = root_processed_path / name_smallvid\n",
    "    # re-initialize tracker?\n",
    "    ct = CentroidTracker(maxDisappeared=5)\n",
    "    # run the thing\n",
    "    kwargs_video_tracking ={\n",
    "    'input_path':path,\n",
    "    'output_path':output_path,\n",
    "    'ct':ct,\n",
    "    'net':net,\n",
    "    'ln':ln,\n",
    "    'LABELS':LABELS,\n",
    "    'COLORS':COLORS,\n",
    "    'end_frame_decided':60,\n",
    "    'write':True,\n",
    "    'confidence_set' : 0.5,\n",
    "    'threshold_set' : 0.3,\n",
    "    'ratio_x_line1': 350 / 1280,\n",
    "    'ratio_x_line2' : 950 / 1280,\n",
    "    'counting_direction' : 1,  # 1 for left to right and -1 for right to left\n",
    "    }\n",
    "    \n",
    "    track_distance_and_features(**kwargs_video_tracking)"
   ]
  },
  {
   "cell_type": "markdown",
   "id": "59dce524",
   "metadata": {},
   "source": [
    "# Sharepoint downloads file & folder"
   ]
  },
  {
   "cell_type": "code",
   "execution_count": null,
   "id": "6bbf172d",
   "metadata": {
    "ExecuteTime": {
     "start_time": "2021-08-08T10:52:10.611Z"
    }
   },
   "outputs": [],
   "source": [
    "from pathlib import Path\n",
    "from src.sharepoint import download_file, download_folder"
   ]
  },
  {
   "cell_type": "code",
   "execution_count": null,
   "id": "04bcc21b",
   "metadata": {
    "ExecuteTime": {
     "start_time": "2021-08-08T10:52:10.614Z"
    }
   },
   "outputs": [],
   "source": [
    "# test download folder with test folder (default arguments)\n",
    "download_folder()"
   ]
  },
  {
   "cell_type": "code",
   "execution_count": null,
   "id": "4f9bdc45",
   "metadata": {
    "ExecuteTime": {
     "start_time": "2021-08-08T10:52:10.617Z"
    }
   },
   "outputs": [],
   "source": [
    "# test download file with big file to check for big file handling\n",
    "source_file_path = Path(\"/sites/KansaiAirportsFileServer/Shared Documents/Other/Throughput videos/0513/Reception C-1/TLC00006.AVI\")\n",
    "download_file_path = Path(r'/home/antoine/projects/PeopleCounting/PeopleCounting/data/raw/TLC00006.AVI')\n",
    "download_file(source_file_path,download_file_path)"
   ]
  },
  {
   "cell_type": "code",
   "execution_count": null,
   "id": "dee5f4fc",
   "metadata": {},
   "outputs": [],
   "source": []
  }
 ],
 "metadata": {
  "hide_input": false,
  "kernelspec": {
   "display_name": "Python [conda env:torchreid]",
   "language": "python",
   "name": "conda-env-torchreid-py"
  },
  "language_info": {
   "codemirror_mode": {
    "name": "ipython",
    "version": 3
   },
   "file_extension": ".py",
   "mimetype": "text/x-python",
   "name": "python",
   "nbconvert_exporter": "python",
   "pygments_lexer": "ipython3",
   "version": "3.7.10"
  },
  "toc": {
   "base_numbering": 1,
   "nav_menu": {},
   "number_sections": true,
   "sideBar": true,
   "skip_h1_title": false,
   "title_cell": "Table of Contents",
   "title_sidebar": "Contents",
   "toc_cell": false,
   "toc_position": {},
   "toc_section_display": true,
   "toc_window_display": false
  },
  "varInspector": {
   "cols": {
    "lenName": 16,
    "lenType": 16,
    "lenVar": 40
   },
   "kernels_config": {
    "python": {
     "delete_cmd_postfix": "",
     "delete_cmd_prefix": "del ",
     "library": "var_list.py",
     "varRefreshCmd": "print(var_dic_list())"
    },
    "r": {
     "delete_cmd_postfix": ") ",
     "delete_cmd_prefix": "rm(",
     "library": "var_list.r",
     "varRefreshCmd": "cat(var_dic_list()) "
    }
   },
   "types_to_exclude": [
    "module",
    "function",
    "builtin_function_or_method",
    "instance",
    "_Feature"
   ],
   "window_display": false
  }
 },
 "nbformat": 4,
 "nbformat_minor": 5
}
