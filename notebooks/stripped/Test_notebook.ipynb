{
 "cells": [
  {
   "cell_type": "code",
   "execution_count": null,
   "id": "5fecb10d",
   "metadata": {
    "ExecuteTime": {
     "end_time": "2021-08-05T10:33:13.361911Z",
     "start_time": "2021-08-05T10:33:13.309048Z"
    }
   },
   "outputs": [],
   "source": [
    "%load_ext autoreload\n",
    "%autoreload 2"
   ]
  },
  {
   "cell_type": "code",
   "execution_count": null,
   "id": "7585e586",
   "metadata": {
    "ExecuteTime": {
     "end_time": "2021-08-05T10:33:23.341787Z",
     "start_time": "2021-08-05T10:33:13.367632Z"
    }
   },
   "outputs": [],
   "source": [
    "from src.tracker import CentroidTracker, load_coco\n",
    "from src.analyze import track_distance_and_features\n",
    "from pathlib import Path"
   ]
  },
  {
   "cell_type": "code",
   "execution_count": null,
   "id": "63e6149c",
   "metadata": {
    "ExecuteTime": {
     "end_time": "2021-08-05T10:33:29.057803Z",
     "start_time": "2021-08-05T10:33:23.344315Z"
    }
   },
   "outputs": [],
   "source": [
    "# initialize all detection and tracking algorithms\n",
    "# load coco\n",
    "net, ln, LABELS, COLORS = load_coco()\n",
    "# initialize our centroid tracker and frame dimensions\n",
    "ct = CentroidTracker(maxDisappeared=5)"
   ]
  },
  {
   "cell_type": "code",
   "execution_count": null,
   "id": "34c24a4a",
   "metadata": {
    "ExecuteTime": {
     "end_time": "2021-08-05T10:33:29.407581Z",
     "start_time": "2021-08-05T10:33:29.062075Z"
    }
   },
   "outputs": [],
   "source": [
    "input_path = r'/home/antoine/projects/PeopleCounting/PeopleCounting/data/interim/1.mp4'\n",
    "output_path = r'/home/antoine/projects/PeopleCounting/PeopleCounting/data/processed/new1_processed.mp4'"
   ]
  },
  {
   "cell_type": "code",
   "execution_count": null,
   "id": "97c7a905",
   "metadata": {
    "ExecuteTime": {
     "end_time": "2021-08-05T10:33:29.719116Z",
     "start_time": "2021-08-05T10:33:29.412047Z"
    }
   },
   "outputs": [],
   "source": [
    "kwargs_video_tracking ={\n",
    "    'input_path':input_path,\n",
    "    'output_path':output_path,\n",
    "    'ct':ct,\n",
    "    'net':net,\n",
    "    'ln':ln,\n",
    "    'LABELS':LABELS,\n",
    "    'COLORS':COLORS,\n",
    "    'end_frame_decided':600,\n",
    "    'write':True,\n",
    "    'confidence_set' : 0.5,\n",
    "    'threshold_set' : 0.3,\n",
    "    'ratio_x_line1': 350 / 1280,\n",
    "    'ratio_x_line2' : 950 / 1280,\n",
    "    'counting_direction' : 1,  # 1 for left to right and -1 for right to left\n",
    "}"
   ]
  },
  {
   "cell_type": "code",
   "execution_count": null,
   "id": "996fb0e8",
   "metadata": {
    "ExecuteTime": {
     "end_time": "2021-08-05T11:07:22.675629Z",
     "start_time": "2021-08-05T10:33:29.723914Z"
    }
   },
   "outputs": [],
   "source": [
    "track_distance_and_features(**kwargs_video_tracking)"
   ]
  },
  {
   "cell_type": "code",
   "execution_count": null,
   "id": "f0aa0b7e",
   "metadata": {},
   "outputs": [],
   "source": []
  }
 ],
 "metadata": {
  "hide_input": false,
  "kernelspec": {
   "display_name": "Python [conda env:torchreid]",
   "language": "python",
   "name": "conda-env-torchreid-py"
  },
  "language_info": {
   "codemirror_mode": {
    "name": "ipython",
    "version": 3
   },
   "file_extension": ".py",
   "mimetype": "text/x-python",
   "name": "python",
   "nbconvert_exporter": "python",
   "pygments_lexer": "ipython3",
   "version": "3.7.10"
  },
  "toc": {
   "base_numbering": 1,
   "nav_menu": {},
   "number_sections": true,
   "sideBar": true,
   "skip_h1_title": false,
   "title_cell": "Table of Contents",
   "title_sidebar": "Contents",
   "toc_cell": false,
   "toc_position": {},
   "toc_section_display": true,
   "toc_window_display": false
  },
  "varInspector": {
   "cols": {
    "lenName": 16,
    "lenType": 16,
    "lenVar": 40
   },
   "kernels_config": {
    "python": {
     "delete_cmd_postfix": "",
     "delete_cmd_prefix": "del ",
     "library": "var_list.py",
     "varRefreshCmd": "print(var_dic_list())"
    },
    "r": {
     "delete_cmd_postfix": ") ",
     "delete_cmd_prefix": "rm(",
     "library": "var_list.r",
     "varRefreshCmd": "cat(var_dic_list()) "
    }
   },
   "types_to_exclude": [
    "module",
    "function",
    "builtin_function_or_method",
    "instance",
    "_Feature"
   ],
   "window_display": false
  }
 },
 "nbformat": 4,
 "nbformat_minor": 5
}
